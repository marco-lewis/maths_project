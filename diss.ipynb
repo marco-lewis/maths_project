{
 "cells": [
  {
   "cell_type": "code",
   "execution_count": null,
   "metadata": {
    "colab": {},
    "colab_type": "code",
    "id": "F6qsT0FBIAsw"
   },
   "outputs": [],
   "source": [
    "import matplotlib.pyplot as plt\n",
    "from random import randint\n",
    "import numpy as np\n",
    "from mpmath import mp\n",
    "import json\n",
    "from scipy import stats"
   ]
  },
  {
   "cell_type": "markdown",
   "metadata": {
    "colab_type": "text",
    "id": "brT05nfdGQSg"
   },
   "source": [
    "# Plotting Functions"
   ]
  },
  {
   "cell_type": "code",
   "execution_count": null,
   "metadata": {
    "colab": {},
    "colab_type": "code",
    "id": "YBLj-cqKKGFV"
   },
   "outputs": [],
   "source": [
    "def show_plot(lower_b, upper_b, map_func,\n",
    "              ylabel='', y_lim=[0, 0.55], title='',\n",
    "              xlabel='gamma (γ)', legend=[], ax=None):\n",
    "  fig = plt.figure()\n",
    "  if ax==None:\n",
    "    ax = plt.subplot(111)\n",
    "  mp.plot(mp.autoprec(map_func), xlim=[lower_b, upper_b], ylim=y_lim, axes=ax)\n",
    "  ax.set_xlabel(xlabel)\n",
    "  ax.set_ylabel(ylabel)\n",
    "  ax.set_title(title)\n",
    "  ax.legend(legend)\n",
    "  ax.axhline(0, color='black')\n",
    "  ax.axvline(0, color='black')\n",
    "\n",
    "def show_multi_plot(lower_b, upper_b, map_funcs, ylabel='',\n",
    "                    y_lim=[-0.1, 0.55], xlabel='gamma (γ)',\n",
    "                    legend=[],  ax=None, title=''):\n",
    "  fig = plt.figure()\n",
    "  if ax==None:\n",
    "    ax = plt.subplot(111)\n",
    "  mp.plot(map_funcs, xlim=[lower_b, upper_b], ylim=y_lim, axes=ax)\n",
    "  ax.set_xlabel(xlabel)\n",
    "  ax.set_ylabel(ylabel)\n",
    "  ax.legend(legend)\n",
    "  ax.set_title(title)\n",
    "  ax.axhline(0, color='black')\n",
    "  ax.axvline(0, color='black')\n",
    "\n",
    "def show_surface_plot(map_func, x_lim=[0,1], y_lim=[0, 1],\n",
    "                      xlabel='r1', ylabel='r2', legend=[],\n",
    "                      ax=None, title=''):\n",
    "  fig = plt.figure()\n",
    "  \n",
    "  if ax==None:\n",
    "    ax = plt.axes(projection='3d')\n",
    "  mp.splot(map_func, u=x_lim, v=y_lim, axes=ax)\n",
    "  ax.set_title(title)\n",
    "  ax.set_xlabel(xlabel)\n",
    "  ax.set_ylabel(ylabel)\n",
    "  ax.set_zlim(-0.1, 0.2)\n",
    "  ax.legend(legend)\n",
    "\n",
    "def plot_hist(data, xlabel='', bins=10, x_lim=[0,2],\n",
    "              ylabel='bin density', ax=None, title='', color='blue'):\n",
    "  fig = plt.figure()\n",
    "  if ax==None:\n",
    "    ax = plt.subplot(111)\n",
    "  ax.set_xlabel(xlabel)\n",
    "  ax.set_ylabel(ylabel)\n",
    "  ax.set_title(title)\n",
    "  ax.set_xlim(x_lim)\n",
    "  ax.hist(data, bins=bins, density=True, color=color)"
   ]
  },
  {
   "cell_type": "code",
   "execution_count": null,
   "metadata": {
    "colab": {},
    "colab_type": "code",
    "id": "WaaSnG4bue6U"
   },
   "outputs": [],
   "source": [
    "log = mp.ln\n",
    "gammas = [0.1, 0.3, 0.5, 0.7, 0.9]\n",
    "n_lefts = [2,4,6,8,10]\n",
    "\n",
    "def norm_const(a):\n",
    "  return (1 - a**2)**2\n",
    "\n",
    "def linear_average(a):\n",
    "  g = a**2\n",
    "  r = -1/g**2\n",
    "  r = r * (log(1-g) + g*(1-2*g)/((1-g)**2))\n",
    "  return r * norm_const(a)\n",
    "  \n",
    "def square_average(a):\n",
    "  g = a**2\n",
    "  r = -1/g**3\n",
    "  r = r*(4 * log(1-g) + g * (g**2- 6 * g + 4)/((1-g)**2))\n",
    "  return r * norm_const(a)\n",
    "\n",
    "def cube_average(a):\n",
    "  g = a**2\n",
    "  r = -1/(2 * g**4)\n",
    "  r = r * (18 * log (1-g) + g * (g**3 + 6 * g**2 - 27 * g + 18)/(1-g)**2)\n",
    "  return r * norm_const(a)\n",
    "\n",
    "def quart_average(a):\n",
    "  g = a**2\n",
    "  r = -1/(3 * g**5)\n",
    "  r = r * (48 * log(1-g) + g * (g**4 + 4 * g**3 + 16 * g**2 - 72 * g + 48)/(1-g)**2)\n",
    "  return r * norm_const(a)"
   ]
  },
  {
   "cell_type": "code",
   "execution_count": null,
   "metadata": {
    "colab": {},
    "colab_type": "code",
    "id": "mfYHVVADfR2F"
   },
   "outputs": [],
   "source": [
    "def get_stats_of_data(data, gamma):\n",
    "    sqr = [x**2 for x in data]\n",
    "    avg = sum(data)/len(data)\n",
    "    var = sum(sqr)/len(sqr) - avg**2\n",
    "    \n",
    "    std_dev = mp.sqrt(var)\n",
    "    skew = sum([((x-avg)/std_dev)**3 for x in data])/len(data)\n",
    "    thd = skew * var**(3/2)\n",
    "    return avg, var, thd\n",
    "\n",
    "gamma_space = np.linspace(0, 1)\n",
    "lower = 0\n",
    "upper = 1"
   ]
  },
  {
   "cell_type": "markdown",
   "metadata": {
    "colab_type": "text",
    "id": "HYzIjPUy2bDx"
   },
   "source": [
    "# Probability Distribution (n = 1, β = 2)"
   ]
  },
  {
   "cell_type": "code",
   "execution_count": null,
   "metadata": {
    "colab": {},
    "colab_type": "code",
    "id": "sUkNKQas1yEw"
   },
   "outputs": [],
   "source": [
    "def simple_prob_dist(r, gamma):\n",
    "  g = gamma**2\n",
    "  p = norm_const(gamma) * (1 + g * r)/(1 - g * r)**3\n",
    "  return p"
   ]
  },
  {
   "cell_type": "code",
   "execution_count": null,
   "metadata": {
    "colab": {
     "base_uri": "https://localhost:8080/",
     "height": 1000
    },
    "colab_type": "code",
    "id": "XJbQeM912p57",
    "outputId": "5e97bae8-be32-4102-b9be-cd6516e7e42e"
   },
   "outputs": [],
   "source": [
    "prob = lambda r: simple_prob_dist(r, 0)\n",
    "show_plot(0, 1, prob, 'Prob Density (γ=0)',xlabel='Reflection Eigenvalue (R1)', y_lim=[-0.1,1.1])\n",
    "for gamma in [0.1, 0.3, 0.5, 0.7, 0.9]:\n",
    "  prob = lambda r: simple_prob_dist(r, gamma)\n",
    "  show_plot(0, 1, prob, 'Prob Density (γ='+ str(gamma) +')',xlabel='Reflection Eigenvalue (R1)', y_lim=[-0.1,1.1])"
   ]
  },
  {
   "cell_type": "code",
   "execution_count": null,
   "metadata": {
    "colab": {},
    "colab_type": "code",
    "id": "PUjsy-eqYB9G"
   },
   "outputs": [],
   "source": [
    "def simple_1(r):\n",
    "  return simple_prob_dist(r, 0.1)\n",
    "def simple_3(r):\n",
    "  return simple_prob_dist(r, 0.3)\n",
    "def simple_5(r):\n",
    "  return simple_prob_dist(r, 0.5)\n",
    "def simple_7(r):\n",
    "  return simple_prob_dist(r, 0.7)\n",
    "def simple_9(r):\n",
    "  return simple_prob_dist(r, 0.9)"
   ]
  },
  {
   "cell_type": "code",
   "execution_count": null,
   "metadata": {
    "colab": {
     "base_uri": "https://localhost:8080/",
     "height": 283
    },
    "colab_type": "code",
    "id": "rWYs1eWVX7qo",
    "outputId": "55a9a5ce-56cc-43e7-aac2-c5af95d37c5e"
   },
   "outputs": [],
   "source": [
    "show_multi_plot(0, 1, [simple_1, simple_3, simple_5, simple_7, simple_9],\n",
    "          ylabel='Prob. Density',\n",
    "          xlabel='Reflection Eigenvalue (R1)',\n",
    "          legend=['γ = 0.1', 'γ = 0.3', 'γ = 0.5', 'γ = 0.7', 'γ = 0.9'],\n",
    "          y_lim=[0,10])"
   ]
  },
  {
   "cell_type": "markdown",
   "metadata": {
    "colab_type": "text",
    "id": "01vFM-qi2fvv"
   },
   "source": [
    "# Conductance and Shot Noise Cumulants"
   ]
  },
  {
   "cell_type": "code",
   "execution_count": null,
   "metadata": {
    "colab": {},
    "colab_type": "code",
    "id": "JqcERDIiw6dM"
   },
   "outputs": [],
   "source": [
    "def cond_fst_moment(a):\n",
    "  return 1 - linear_average(a)\n",
    "\n",
    "def cond_snd_moment(a):\n",
    "  return 1 - 2 * linear_average(a) + square_average(a)\n",
    "\n",
    "def cond_snd_cumulant(a):\n",
    "  return square_average(a) - linear_average(a)**2\n",
    "\n",
    "def cond_thd_cumulant(a):\n",
    "  lin = linear_average(a)\n",
    "  sqr = square_average(a)\n",
    "  cube = cube_average(a)\n",
    "  return (3 * sqr * lin) - (2 * lin**3) - cube"
   ]
  },
  {
   "cell_type": "code",
   "execution_count": null,
   "metadata": {
    "colab": {},
    "colab_type": "code",
    "id": "J16TTBGKQqT-"
   },
   "outputs": [],
   "source": [
    "def produce_list(low_b, upper_b, steps, map_func):\n",
    "  gammas = list(np.arange(low_b,upper_b,step=steps))\n",
    "  l = list(np.array([map_func(g) for g in gammas]))\n",
    "  return gammas, l"
   ]
  },
  {
   "cell_type": "markdown",
   "metadata": {
    "colab_type": "text",
    "id": "RqaSss8D8wXY"
   },
   "source": [
    "## Conductance Distributions"
   ]
  },
  {
   "cell_type": "code",
   "execution_count": null,
   "metadata": {
    "colab": {
     "base_uri": "https://localhost:8080/",
     "height": 549
    },
    "colab_type": "code",
    "id": "EK1BfvV74_jA",
    "outputId": "35c460aa-9c53-4bfa-f2d9-df5be46ef934"
   },
   "outputs": [],
   "source": [
    "def cond_dist(c, gamma):\n",
    "  return simple_prob_dist(1-c, gamma)\n",
    "\n",
    "def cond_1(r):\n",
    "  return cond_dist(r, 0.1)\n",
    "def cond_3(r):\n",
    "  return cond_dist(r, 0.3)\n",
    "def cond_5(r):\n",
    "  return cond_dist(r, 0.5)\n",
    "def cond_7(r):\n",
    "  return cond_dist(r, 0.7)\n",
    "def cond_9(r):\n",
    "  return cond_dist(r, 0.9)\n",
    "\n",
    "show_plot(0,1,lambda x: cond_dist(x, 0), y_lim=[0,2])\n",
    "\n",
    "show_multi_plot(0, 1, [cond_1, cond_3, cond_5, cond_7, cond_9],\n",
    "          ylabel='Cond. Probability Density',\n",
    "          xlabel='Conductance Value',\n",
    "          legend=['γ = 0.1', 'γ = 0.3', 'γ = 0.5', 'γ = 0.7', 'γ = 0.9'],\n",
    "          y_lim=[-0.1,10])"
   ]
  },
  {
   "cell_type": "code",
   "execution_count": null,
   "metadata": {
    "colab": {
     "base_uri": "https://localhost:8080/",
     "height": 1000
    },
    "colab_type": "code",
    "id": "5fvkObBbPJtJ",
    "outputId": "8f532c7a-852f-46d1-c593-633c7d31e627"
   },
   "outputs": [],
   "source": [
    "for i in range(0,len(gammas)):\n",
    "  gamma = gammas[i]\n",
    "  cond = [cond_1, cond_3, cond_5, cond_7, cond_9][i]\n",
    "  show_plot(0,1, cond, y_lim=[0,2], xlabel='Conductance Value', ylabel='Cond Prob. Density',legend=['gamma = ' + str(gamma)])"
   ]
  },
  {
   "cell_type": "markdown",
   "metadata": {
    "colab_type": "text",
    "id": "wfKH6sTsWaZp"
   },
   "source": [
    "## Plots of First Few Conductance Cumulants"
   ]
  },
  {
   "cell_type": "code",
   "execution_count": null,
   "metadata": {
    "colab": {
     "base_uri": "https://localhost:8080/",
     "height": 811
    },
    "colab_type": "code",
    "id": "menYu-6VIzfL",
    "outputId": "f4cbd32e-3267-4487-9e91-2a958c69c260"
   },
   "outputs": [],
   "source": [
    "show_plot(lower, upper, cond_fst_moment, 'Average Conductance')\n",
    "show_plot(lower, upper, cond_snd_cumulant, 'Conductance Variance var(G/G_0)', y_lim=[0, 0.1])\n",
    "show_plot(lower, upper, cond_thd_cumulant, '3rd Conductance Cumulant (G/G_0)', y_lim=[0, 0.03])"
   ]
  },
  {
   "cell_type": "markdown",
   "metadata": {
    "colab_type": "text",
    "id": "eHDBgAwBWfSr"
   },
   "source": [
    "## Plot of Skewness of Conductance"
   ]
  },
  {
   "cell_type": "code",
   "execution_count": null,
   "metadata": {
    "colab": {
     "base_uri": "https://localhost:8080/",
     "height": 283
    },
    "colab_type": "code",
    "id": "zgEA78D6K_7k",
    "outputId": "a4ce982a-6ac9-426d-d090-59e4377ebb97"
   },
   "outputs": [],
   "source": [
    "skew = lambda x: cond_thd_cumulant(x)/cond_snd_cumulant(x)**(3/2)\n",
    "show_plot(lower, upper, skew, 'Skew of Conductance', y_lim=[0,10])"
   ]
  },
  {
   "cell_type": "markdown",
   "metadata": {
    "colab_type": "text",
    "id": "jkMs-rMN7vGK"
   },
   "source": [
    "## Comparing Fourth Cumulant to Ideal Estimate"
   ]
  },
  {
   "cell_type": "code",
   "execution_count": null,
   "metadata": {
    "colab": {},
    "colab_type": "code",
    "id": "d_LNstpm7wQX"
   },
   "outputs": [],
   "source": [
    "def rough_cond_frth_cumulant(a):\n",
    "  fst = cond_fst_moment(a)\n",
    "  snd = cond_snd_cumulant(a)\n",
    "  thd = cond_thd_cumulant(a)\n",
    "  r = 1/28\n",
    "  r = r * (30 * thd + 6 * snd - 60 * fst * thd - 96 * snd**2)\n",
    "  return r\n",
    "\n",
    "# r = 1/14 * (...) - 4 * lin * cube - 3 * sqr**2 + 12 * lin**2 * sqr - 6 *lin**4\n",
    "# 1/14 * (...) is an approximation of qrt\n",
    "\n",
    "def cond_frth_cumulant(a):\n",
    "  lin = linear_average(a)\n",
    "  sqr = square_average(a)\n",
    "  cube = cube_average(a)\n",
    "  qrt = quart_average(a)\n",
    "  return qrt - 4 * lin * cube - 3 * sqr**2 + 12 * lin**2 * sqr - 6 *lin**4\n",
    "\n",
    "def diff_cond_frth_cumulant(a):\n",
    "  return cond_frth_cumulant(a) - rough_cond_frth_cumulant(a)"
   ]
  },
  {
   "cell_type": "code",
   "execution_count": null,
   "metadata": {
    "colab": {
     "base_uri": "https://localhost:8080/",
     "height": 283
    },
    "colab_type": "code",
    "id": "8XVJaviDZXNZ",
    "outputId": "26d675dd-0a03-4139-8dbe-023dc3f44a03"
   },
   "outputs": [],
   "source": [
    "show_multi_plot(0, 1, [mp.autoprec(rough_cond_frth_cumulant), mp.autoprec(cond_frth_cumulant)],\n",
    "          ylabel='4th Conductance Cumulant',\n",
    "          xlabel='γ',\n",
    "          legend=['Recurrence Relation Approximation', 'Actual Cumulant Value'],\n",
    "          y_lim=[-0.01,0.05])"
   ]
  },
  {
   "cell_type": "code",
   "execution_count": null,
   "metadata": {
    "colab": {
     "base_uri": "https://localhost:8080/",
     "height": 826
    },
    "colab_type": "code",
    "id": "hZWw9mhy8UbH",
    "outputId": "2fb50d96-ef33-47d5-aeda-f4c614c85b5c"
   },
   "outputs": [],
   "source": [
    "show_plot(0, 1, rough_cond_frth_cumulant, \"Approx. Conductance 4th Cumulant\", y_lim=[-0.01,0.05])\n",
    "show_plot(0, 1, cond_frth_cumulant, \"Conductance 4th Cumulant\", y_lim=[-0.01,0.05])\n",
    "# Approx. is slightly above actual\n",
    "show_plot(0, 1, diff_cond_frth_cumulant, \"Conductance 4th Cumulant Error (Actual - Appox)\", y_lim=[-0.01,0.05])"
   ]
  },
  {
   "cell_type": "markdown",
   "metadata": {
    "colab_type": "text",
    "id": "Qhyu9zqm80cQ"
   },
   "source": [
    "## Shot Noise Distributions"
   ]
  },
  {
   "cell_type": "code",
   "execution_count": null,
   "metadata": {
    "colab": {
     "base_uri": "https://localhost:8080/",
     "height": 550
    },
    "colab_type": "code",
    "id": "ehsfjbiK84_A",
    "outputId": "8102dac1-b04d-4d5a-cc63-be8dd9331b86"
   },
   "outputs": [],
   "source": [
    "def shot_1(s):\n",
    "  return shot_dist(s, 0.1)\n",
    "def shot_3(s):\n",
    "  return shot_dist(s, 0.3)\n",
    "def shot_5(s):\n",
    "  return shot_dist(s, 0.5)\n",
    "def shot_7(s):\n",
    "  return shot_dist(s, 0.7)\n",
    "def shot_9(s):\n",
    "  return shot_dist(s, 0.9)\n",
    "\n",
    "def cumulative_shot_dist(s, gamma):\n",
    "  g = gamma**2\n",
    "  a = (1 - mp.sqrt(1-4*s))/2\n",
    "  b = (1 + mp.sqrt(1-4*s))/2\n",
    "  f1 = lambda x: x * (1-g)**2 / (1-g*x)**2\n",
    "  t = 1 + f1(a) - f1(b)\n",
    "  return t\n",
    "\n",
    "def shot_dist(s, gamma):\n",
    "  g = gamma**2\n",
    "  a = (1 - mp.sqrt(1-4*s))/2\n",
    "  b = (1 + mp.sqrt(1-4*s))/2\n",
    "  f1 = lambda x: (1+g*x)/(1-g*x)**3\n",
    "  t = f1(a) + f1(b)\n",
    "  return t * (1-g)**2 / (1-2*a)\n",
    "\n",
    "show_plot(0,0.25, lambda s: shot_dist(s, 0), y_lim=[0,10],\n",
    "          ylabel='Prob Density',\n",
    "          xlabel='Shot Noise (P/P_0)')\n",
    "\n",
    "show_multi_plot(0, 0.25, [shot_1, shot_3, shot_5, shot_7, shot_9],\n",
    "          ylabel='Shot Noise Prob Density',\n",
    "          xlabel='Shot Noise Value',\n",
    "          legend=['γ = 0.1', 'γ = 0.3', 'γ = 0.5', 'γ = 0.7', 'γ = 0.9'],\n",
    "          y_lim=[0,10])"
   ]
  },
  {
   "cell_type": "markdown",
   "metadata": {
    "colab_type": "text",
    "id": "JQUn_LrvWn3T"
   },
   "source": [
    "## Plots of First and Second Shot Noise Cumulant"
   ]
  },
  {
   "cell_type": "code",
   "execution_count": null,
   "metadata": {
    "colab": {},
    "colab_type": "code",
    "id": "bTF_yuFMXc_5"
   },
   "outputs": [],
   "source": [
    "def shot_fst_cumulant(a):\n",
    "  return linear_average(a) - square_average(a)\n",
    "\n",
    "def shot_snd_cumulant(a):\n",
    "  lin = linear_average(a)\n",
    "  sqr = square_average(a)\n",
    "  cube = cube_average(a)\n",
    "  quart = quart_average(a)\n",
    "  return quart - 2 * cube + sqr - lin**2 + 2 * lin * sqr - sqr**2"
   ]
  },
  {
   "cell_type": "code",
   "execution_count": null,
   "metadata": {
    "colab": {
     "base_uri": "https://localhost:8080/",
     "height": 549
    },
    "colab_type": "code",
    "id": "_Hbv5vGmWsRY",
    "outputId": "7a51eb45-c2c0-427b-8d40-205daa242aef"
   },
   "outputs": [],
   "source": [
    "show_plot(lower, upper, shot_fst_cumulant, 'Average Shot Noise (P/P_0)', y_lim=[0,0.2])\n",
    "show_plot(lower, upper, shot_snd_cumulant, 'Shot Noise Variance var(P/P_0)', y_lim=[0, 0.01])"
   ]
  },
  {
   "cell_type": "markdown",
   "metadata": {
    "colab_type": "text",
    "id": "sE5w03O4vnMG"
   },
   "source": [
    "## Cond and Shot Noise defined using Hypergeometric Function"
   ]
  },
  {
   "cell_type": "code",
   "execution_count": null,
   "metadata": {
    "colab": {},
    "colab_type": "code",
    "id": "SB-nZgsEvtmt"
   },
   "outputs": [],
   "source": [
    "def m_hyp_avg(gamma, m):\n",
    "  g = gamma**2\n",
    "  t1 = mp.hyp2f1(3, m+1, m+2, g)/(m+1)\n",
    "  t2 = g * mp.hyp2f1(3, m+2, m+3, g)/(m+2)\n",
    "  return (t1 + t2) * (1-g)**2\n",
    "\n",
    "def hyp_lin_avg(gamma):\n",
    "  return m_hyp_avg(gamma, 1)\n",
    "def hyp_sqr_avg(gamma):\n",
    "  return m_hyp_avg(gamma, 2)\n",
    "def hyp_cube_avg(gamma):\n",
    "  return m_hyp_avg(gamma, 3)\n",
    "def hyp_qrt_avg(gamma):\n",
    "  return m_hyp_avg(gamma, 4)"
   ]
  },
  {
   "cell_type": "code",
   "execution_count": null,
   "metadata": {
    "colab": {},
    "colab_type": "code",
    "id": "NGbQu_LOvu5c"
   },
   "outputs": [],
   "source": [
    "def hyp_cond_fst(a):\n",
    "  return 1 - hyp_lin_avg(a)\n",
    "\n",
    "def hyp_cond_snd(a):\n",
    "  return hyp_sqr_avg(a) - hyp_lin_avg(a)**2\n",
    "\n",
    "def hyp_cond_thd(a):\n",
    "  lin = hyp_lin_avg(a)\n",
    "  sqr = hyp_sqr_avg(a)\n",
    "  cube = hyp_cube_avg(a)\n",
    "  return (3 * sqr * lin) - (2 * lin**3) - cube\n",
    "\n",
    "def hyp_cond_frth(a):\n",
    "  return 0\n",
    "\n",
    "def hyp_shot_fst(a):\n",
    "  return (hyp_lin_avg(a) - hyp_sqr_avg(a))\n",
    "\n",
    "def hyp_shot_snd(a):\n",
    "  return (hyp_qrt_avg(a) - 2 * hyp_cube_avg(a) + hyp_sqr_avg(a) - (hyp_lin_avg(a) - hyp_sqr_avg(a))**2)\n",
    "\n",
    "def hyp_shot_thd(a):\n",
    "  u1 = hyp_shot_fst(a)\n",
    "  u2 = hyp_qrt_avg(a) - 2 * hyp_cube_avg(a) + hyp_sqr_avg(a)\n",
    "  u3 = hyp_cube_avg(a) - 3 * m_hyp_avg(a, 4) + 3 * m_hyp_avg(a, 5) - m_hyp_avg(a, 6)\n",
    "  return u3 - 3 * u2 * u1 + 2 * u1**3"
   ]
  },
  {
   "cell_type": "code",
   "execution_count": null,
   "metadata": {
    "colab": {
     "base_uri": "https://localhost:8080/",
     "height": 811
    },
    "colab_type": "code",
    "id": "UzzkatoBwTSq",
    "outputId": "d87b23f6-445e-4d7b-a88d-6b96cf3eb38d"
   },
   "outputs": [],
   "source": [
    "show_plot(lower, upper, hyp_cond_fst, 'Average Conductance (G/G_0)')\n",
    "show_plot(lower, upper, hyp_cond_snd, 'Conductance Variance var(G/G_0)', y_lim=[0, 0.1])\n",
    "show_plot(lower, upper, hyp_cond_thd, '3rd Conductance Cumulant (G/G_0)', y_lim=[0, 0.03])"
   ]
  },
  {
   "cell_type": "code",
   "execution_count": null,
   "metadata": {
    "colab": {
     "base_uri": "https://localhost:8080/",
     "height": 279
    },
    "colab_type": "code",
    "id": "oNgPEIkYgDjb",
    "outputId": "7d1d830e-f1fc-4248-95fd-c723849d1453"
   },
   "outputs": [],
   "source": [
    "show_multi_plot(0,1,[hyp_cond_fst, lambda g: 0.5 - (g**2)/3], y_lim=[0,0.55], ylabel='Average Conductance',legend=['Actual', 'Taylor Expansion'])"
   ]
  },
  {
   "cell_type": "code",
   "execution_count": null,
   "metadata": {
    "colab": {
     "base_uri": "https://localhost:8080/",
     "height": 811
    },
    "colab_type": "code",
    "id": "n4p9mnnxA_X4",
    "outputId": "ad5d3464-ec98-45c1-89c2-2032ea622c6d"
   },
   "outputs": [],
   "source": [
    "show_plot(0,1, hyp_shot_fst)\n",
    "show_plot(0,1, hyp_shot_snd, y_lim=[0,0.01])\n",
    "show_plot(0,1, hyp_shot_thd, y_lim=[-0.001,0.001], ylabel='3rd Shot Noise Cumulant')"
   ]
  },
  {
   "cell_type": "markdown",
   "metadata": {
    "colab_type": "text",
    "id": "-2_7Ts56N_ag"
   },
   "source": [
    "# Reflection Eigenvalue Sampling (n=1, β = 2)"
   ]
  },
  {
   "cell_type": "code",
   "execution_count": null,
   "metadata": {
    "colab": {},
    "colab_type": "code",
    "id": "VUQ3Dd8CN-jk"
   },
   "outputs": [],
   "source": [
    "def sample_single_dist(gamma, max_height):\n",
    "  actual_density = 0\n",
    "  sample_density = 1\n",
    "  \n",
    "  while (actual_density < sample_density):\n",
    "    r_sample = rand()\n",
    "    sample_density = mp.rand() * max_height\n",
    "    actual_density = simple_prob_dist(r_sample, gamma)\n",
    "\n",
    "  return r_sample\n",
    "\n",
    "def find_max1d(gamma, r_region):\n",
    "  max_height = 0\n",
    "  for i in r_region:\n",
    "    h = simple_prob_dist(i, gamma)\n",
    "    max_height = max(h, max_height)\n",
    "  return max_height\n",
    "\n",
    "\n",
    "def gen_1d_samples(gamma, num_of_samples):\n",
    "  samples = []\n",
    "  r_region = np.arange(0,1,0.01)\n",
    "  max_height = find_max1d(gamma, r_region)\n",
    "\n",
    "  for i in range(0, num_of_samples):\n",
    "    samples.append(sample_single_dist(gamma, max_height))\n",
    "    clear_output(wait=True)\n",
    "    print('Found sample ' + str(i+1) + ' for γ=' + str(gamma))\n",
    "  return samples"
   ]
  },
  {
   "cell_type": "code",
   "execution_count": null,
   "metadata": {
    "colab": {
     "base_uri": "https://localhost:8080/",
     "height": 244
    },
    "colab_type": "code",
    "id": "sHeSrlAtPLHl",
    "outputId": "910a69a4-eabb-493f-ff6b-bbcd466c6463"
   },
   "outputs": [],
   "source": [
    "samples_1d = []\n",
    "for gamma in [0.1, 0.3, 0.5, 0.7, 0.9]:\n",
    "  gamma_samples = gen_1d_samples(gamma, 1000)\n",
    "  samples_1d.append(gamma_samples)\n",
    "# Uncomment to read samples from a file (keep in loop)\n",
    "#   with open(str(gamma) + '_sample.txt', 'w') as f:\n",
    "#     json.dump(gamma_samples, f)\n",
    "\n",
    "# Uncomment to read samples from files\n",
    "# for gamma in gammas:\n",
    "#   with open(str(gamma) + '_sample.txt', 'r') as f:\n",
    "#     sample_data = json.load(f)\n",
    "#     samples_1d.append(sample_data)"
   ]
  },
  {
   "cell_type": "code",
   "execution_count": null,
   "metadata": {
    "colab": {},
    "colab_type": "code",
    "id": "j3L1sDn6P99r"
   },
   "outputs": [],
   "source": [
    "for i in range(0, len(samples_1d)):\n",
    "  data = samples_1d[i]\n",
    "  gamma = gammas[i]\n",
    "  ax = plt.subplot(111)\n",
    "  show_plot(0,1, lambda r: simple_prob_dist(r, gamma), ylabel='', y_lim=[0,2], ax=ax)\n",
    "  plot_hist(data, x_lim=[0,1], ax=ax, xlabel='r value')"
   ]
  },
  {
   "cell_type": "markdown",
   "metadata": {
    "colab_type": "text",
    "id": "yIRQAq0FUUT8"
   },
   "source": [
    "## Conductance Histograms"
   ]
  },
  {
   "cell_type": "code",
   "execution_count": null,
   "metadata": {
    "colab": {},
    "colab_type": "code",
    "id": "hA3d6y8kSvud"
   },
   "outputs": [],
   "source": [
    "cond1_avgs = []\n",
    "cond1_vars = []\n",
    "cond1_thds = []\n",
    "for i in range(0, len(samples_1d)):\n",
    "  gamma = gammas[i]\n",
    "  cond_data = [1-x for x in samples_1d[i]]\n",
    "\n",
    "  ax = plt.subplot(111)\n",
    "  show_plot(0,1,lambda c: cond_dist(c, gamma), ax=ax, y_lim=[0,2])\n",
    "  plot_hist(cond_data,'Conductance (γ=' + str(gamma) +')', bins=20, ax=ax,x_lim=[0,1])\n",
    "\n",
    "  cond_avg, cond_var, cond_thd = get_stats_of_data(cond_data, gamma)\n",
    "  cond1_avgs.append(cond_avg)\n",
    "  cond1_vars.append(cond_var)\n",
    "  cond1_thds.append(cond_thd)"
   ]
  },
  {
   "cell_type": "code",
   "execution_count": null,
   "metadata": {
    "colab": {},
    "colab_type": "code",
    "id": "j--yvpA_Ug4E"
   },
   "outputs": [],
   "source": [
    "fig = plt.figure()\n",
    "ax = plt.subplot(111)\n",
    "show_plot(0,1,cond_fst_moment,y_lim=[0,0.6], ax=ax)\n",
    "\n",
    "ax.scatter(gammas, cond1_avgs, marker='x', c='red', s=100)\n",
    "ax.legend(['n=1 Cond. Average Fit', 'n=1 Sampled Cond. Average'])\n",
    "ax.axhline(0, color='black')\n",
    "ax.axvline(0, color='black')\n",
    "plt.show()"
   ]
  },
  {
   "cell_type": "code",
   "execution_count": null,
   "metadata": {
    "colab": {},
    "colab_type": "code",
    "id": "cH5LEuDQU6GX"
   },
   "outputs": [],
   "source": [
    "fig = plt.figure()\n",
    "ax = plt.subplot(111)\n",
    "show_plot(0,1,cond_snd_cumulant,y_lim=[0,0.1], ax=ax)\n",
    "\n",
    "ax.scatter(gammas, cond1_vars, marker='x', c='red', s=100)\n",
    "ax.legend(['n=1 Cond. Var Fit', 'n=1 Sampled Cond. Var'])\n",
    "ax.axhline(0, color='black')\n",
    "ax.axvline(0, color='black')\n",
    "plt.show()"
   ]
  },
  {
   "cell_type": "code",
   "execution_count": null,
   "metadata": {
    "colab": {},
    "colab_type": "code",
    "id": "EgJBu7OWVIos"
   },
   "outputs": [],
   "source": [
    "fig = plt.figure()\n",
    "ax = plt.subplot(111)\n",
    "show_plot(0,1,cond_thd_cumulant,y_lim=[0,0.02], ax=ax)\n",
    "\n",
    "ax.scatter(gammas, cond1_thds, marker='x', c='red', s=100)\n",
    "ax.legend(['n=1 Cond. Thd. Cumulant Fit', 'n=1 Sampled Cond. Thd. Cumulants'])\n",
    "ax.axhline(0, color='black')\n",
    "ax.axvline(0, color='black')\n",
    "plt.show()"
   ]
  },
  {
   "cell_type": "markdown",
   "metadata": {
    "colab_type": "text",
    "id": "a_obxFSRUdp9"
   },
   "source": [
    "## Shot Noise Histograms"
   ]
  },
  {
   "cell_type": "code",
   "execution_count": null,
   "metadata": {
    "colab": {},
    "colab_type": "code",
    "id": "0fVSepfZTrdg"
   },
   "outputs": [],
   "source": [
    "shot1_avgs = []\n",
    "shot1_vars = []\n",
    "shot1_thds = []\n",
    "for i in range(0, len(samples_1d)):\n",
    "  gamma = gammas[i]\n",
    "  shot_data = [x*(1-x) for x in samples_1d[i]]\n",
    "  \n",
    "  ax = plt.subplot(111)\n",
    "  show_plot(0,0.25,lambda s: shot_dist(s, gamma), ax=ax, y_lim=[0,22])\n",
    "  plot_hist(shot_data,'Shot Noise (γ=' + str(gamma) +')', bins=20, x_lim=[0,0.25], ax=ax)\n",
    "\n",
    "  shot_avg, shot_var, shot_thd = get_stats_of_data(shot_data, gamma)\n",
    "  shot1_avgs.append(shot_avg)\n",
    "  shot1_vars.append(shot_var)\n",
    "  shot1_thds.append(shot_thd)"
   ]
  },
  {
   "cell_type": "code",
   "execution_count": null,
   "metadata": {
    "colab": {},
    "colab_type": "code",
    "id": "yUWiqrgrWWyJ"
   },
   "outputs": [],
   "source": [
    "fig = plt.figure()\n",
    "ax = plt.subplot(111)\n",
    "ax.scatter(gammas, shot1_avgs, marker='x', c='red', s=100)\n",
    "show_plot(0,1,shot_fst_cumulant,y_lim=[0,0.2], ax=ax)\n",
    "ax.legend(['n=1 Shot. Average', 'n=1 Sampled Shot Averages'])\n",
    "ax.axhline(0, color='black')\n",
    "ax.axvline(0, color='black')\n",
    "plt.show()"
   ]
  },
  {
   "cell_type": "code",
   "execution_count": null,
   "metadata": {
    "colab": {},
    "colab_type": "code",
    "id": "IYXM0n5bWjyM"
   },
   "outputs": [],
   "source": [
    "fig = plt.figure()\n",
    "ax = plt.subplot(111)\n",
    "ax.scatter(gammas, shot1_vars, marker='x', c='red', s=100)\n",
    "show_plot(0,1,shot_snd_cumulant, ax=ax, y_lim=[0,0.02])\n",
    "ax.legend(['n=1 Shot. Var', 'n=1 Sampled Shot Vars'])\n",
    "ax.axhline(0, color='black')\n",
    "ax.axvline(0, color='black')\n",
    "plt.show()"
   ]
  },
  {
   "cell_type": "code",
   "execution_count": null,
   "metadata": {
    "colab": {},
    "colab_type": "code",
    "id": "_9wyUkVxnUJO"
   },
   "outputs": [],
   "source": [
    "fig = plt.figure()\n",
    "ax = plt.subplot(111)\n",
    "show_plot(0,1, hyp_shot_thd, ax=ax, y_lim=[-0.001,0.001])\n",
    "ax.scatter(gammas, shot1_thds, marker='x', c='red', s=100)\n",
    "ax.legend(['n=1 Shot Thd. Cumulant', 'n=1 Sampled Shot Third Cumulant'])\n",
    "ax.axhline(0, color='black')\n",
    "ax.axvline(0, color='black')\n",
    "plt.show()"
   ]
  },
  {
   "cell_type": "markdown",
   "metadata": {
    "colab_type": "text",
    "id": "vDbAHkKL77W4"
   },
   "source": [
    "# Arbitrary Number of Channels in Left Lead (One Channel in Right Lead)\n",
    "\n",
    "Precision Error for small gamma as n_left gets larger"
   ]
  },
  {
   "cell_type": "code",
   "execution_count": null,
   "metadata": {
    "colab": {},
    "colab_type": "code",
    "id": "OhbnYwJz8Clh"
   },
   "outputs": [],
   "source": [
    "def arb_left_norm_const(n_left, gamma):\n",
    "  g = gamma**2\n",
    "  N = n_left + 1\n",
    "  fst_term = (N * (1-g) - (1-g**N)) * mp.hyp2f1(N+1, 1, N, g)/(n_left)\n",
    "  snd_term = g * (g**n_left * N * (1 - g) - (1 - g**N)) * mp.hyp2f1(N+1,2,N+1,g)/(n_left * N)\n",
    "  return fst_term - snd_term\n",
    "\n",
    "def arb_left_prob_dist(r, n_left, gamma):\n",
    "  g = gamma**2\n",
    "  N = n_left + 1\n",
    "  p = (1-r)**(n_left - 1)\n",
    "  p = p/(1-g * r)**(N+1)\n",
    "  p = p*(N * (1-g) * (1- r * g**(N)) - (1 - g**N) * (1 - g * r))\n",
    "  return p\n",
    "\n",
    "def arb_norm_prob_dist(r, n_left, gamma):\n",
    "  return arb_left_prob_dist(r, n_left, gamma)/arb_left_norm_const(n_left, gamma)"
   ]
  },
  {
   "cell_type": "markdown",
   "metadata": {
    "colab_type": "text",
    "id": "l4Ac-nT_SZ74"
   },
   "source": [
    "## Single Plots"
   ]
  },
  {
   "cell_type": "code",
   "execution_count": null,
   "metadata": {
    "colab": {},
    "colab_type": "code",
    "id": "T6yxmWN-A3lI"
   },
   "outputs": [],
   "source": [
    "def show_arb_single_plots(gamma):\n",
    "  for n_left in [2,3,4,6,8,10]:\n",
    "    prob = lambda r: arb_norm_prob_dist(r, n_left, gamma)\n",
    "    show_plot(0, 1, prob,\n",
    "              ylabel='Probability Density',\n",
    "              xlabel='Reflection Eigenvalue (R1, nleft = '+ str(n_left) + ')',\n",
    "              legend=['γ='+ str(gamma)],\n",
    "              y_lim=[-1,10])\n",
    "    \n",
    "def show_arb_nleft_single_plots(n_left):\n",
    "  for gamma in gammas:\n",
    "    prob = lambda r: arb_norm_prob_dist(r, n_left, gamma)\n",
    "    show_plot(0, 1, prob,\n",
    "              ylabel='Probability Density',\n",
    "              xlabel='Reflection Eigenvalue (R1, nleft = '+ str(n_left) + ')',\n",
    "              legend=['γ = ' + str(gamma)],\n",
    "              y_lim=[0,10])"
   ]
  },
  {
   "cell_type": "code",
   "execution_count": null,
   "metadata": {
    "colab": {},
    "colab_type": "code",
    "id": "8Zd0BONeMjBH"
   },
   "outputs": [],
   "source": [
    "  prob = lambda r: arb_norm_prob_dist(r, 10, 0.99)\n",
    "  show_plot(0, 1, prob,\n",
    "            ylabel='Probability Density',\n",
    "            xlabel='Reflection Eigenvalue (R1, nleft = 10)',\n",
    "            legend=['γ='+ str(0.99)],\n",
    "            y_lim=[-1,10])"
   ]
  },
  {
   "cell_type": "code",
   "execution_count": null,
   "metadata": {
    "colab": {},
    "colab_type": "code",
    "id": "jYR0IjlVBDXL"
   },
   "outputs": [],
   "source": [
    "show_arb_single_plots(0)"
   ]
  },
  {
   "cell_type": "code",
   "execution_count": null,
   "metadata": {
    "colab": {},
    "colab_type": "code",
    "id": "ysr7v6sS87VD"
   },
   "outputs": [],
   "source": [
    "show_arb_single_plots(0.1)"
   ]
  },
  {
   "cell_type": "code",
   "execution_count": null,
   "metadata": {
    "colab": {},
    "colab_type": "code",
    "id": "aSUhWaK0Otkk"
   },
   "outputs": [],
   "source": [
    "show_arb_nleft_single_plots(2)"
   ]
  },
  {
   "cell_type": "markdown",
   "metadata": {
    "colab_type": "text",
    "id": "1H0B9BprWMXL"
   },
   "source": [
    "## Multiple Lines on Single Plot"
   ]
  },
  {
   "cell_type": "code",
   "execution_count": null,
   "metadata": {
    "colab": {},
    "colab_type": "code",
    "id": "AWETrybQQT2f"
   },
   "outputs": [],
   "source": [
    "def ex_2_1(r):\n",
    "  return arb_norm_prob_dist(r, 2, 0.1)\n",
    "def ex_2_3(r):\n",
    "  return arb_norm_prob_dist(r, 2, 0.3)\n",
    "def ex_2_5(r):\n",
    "  return arb_norm_prob_dist(r, 2, 0.5)\n",
    "def ex_2_7(r):\n",
    "  return arb_norm_prob_dist(r, 2, 0.7)\n",
    "def ex_2_9(r):\n",
    "  return arb_norm_prob_dist(r, 2, 0.9)\n",
    "\n",
    "def ex_4_1(r):\n",
    "  return arb_norm_prob_dist(r, 4, 0.1)\n",
    "def ex_6_1(r):\n",
    "  return arb_norm_prob_dist(r, 6, 0.1)\n",
    "def ex_8_1(r):\n",
    "  return arb_norm_prob_dist(r, 8, 0.1)\n",
    "def ex_10_1(r):\n",
    "  return arb_norm_prob_dist(r, 10, 0.1)\n",
    "\n",
    "def ex_4_5(r):\n",
    "  return arb_norm_prob_dist(r, 4, 0.5)\n",
    "def ex_6_5(r):\n",
    "  return arb_norm_prob_dist(r, 6, 0.5)\n",
    "def ex_8_5(r):\n",
    "  return arb_norm_prob_dist(r, 8, 0.5)\n",
    "def ex_10_5(r):\n",
    "  return arb_norm_prob_dist(r, 10, 0.5)\n",
    "\n",
    "def ex_4_9(r):\n",
    "  return arb_norm_prob_dist(r, 4, 0.9)\n",
    "def ex_6_9(r):\n",
    "  return arb_norm_prob_dist(r, 6, 0.9)\n",
    "def ex_8_9(r):\n",
    "  return arb_norm_prob_dist(r, 8, 0.9)\n",
    "def ex_10_9(r):\n",
    "  return arb_norm_prob_dist(r, 10, 0.9)\n",
    "\n",
    "def ex_4_3(r):\n",
    "  return arb_norm_prob_dist(r, 4, 0.3)\n",
    "def ex_4_7(r):\n",
    "  return arb_norm_prob_dist(r, 4, 0.7)\n",
    "def ex_10_3(r):\n",
    "  return arb_norm_prob_dist(r, 10, 0.3)\n",
    "def ex_10_7(r):\n",
    "  return arb_norm_prob_dist(r, 10, 0.7)\n",
    "def ex_10_99(r):\n",
    "  return arb_norm_prob_dist(r, 10, 0.99)"
   ]
  },
  {
   "cell_type": "code",
   "execution_count": null,
   "metadata": {
    "colab": {},
    "colab_type": "code",
    "id": "-9Ax6QOlV8Cz"
   },
   "outputs": [],
   "source": [
    "show_multi_plot(0, 1, [ex_2_1, ex_2_3, ex_2_5, ex_2_7, ex_2_9],\n",
    "          ylabel='prob density',\n",
    "          xlabel='Reflection Eigenvalue (R1, n_left=2)',\n",
    "          legend=['γ = 0.1', 'γ = 0.3', 'γ = 0.5', 'γ = 0.7', 'γ = 0.9'],\n",
    "          y_lim=[0,10])\n",
    "\n",
    "show_multi_plot(0, 1, [ex_4_1, ex_4_3, ex_4_5, ex_4_7, ex_4_9],\n",
    "          ylabel='prob density',\n",
    "          xlabel='Reflection Eigenvalue (R1, n_left=4)',\n",
    "          legend=['γ = 0.1', 'γ = 0.3', 'γ = 0.5', 'γ = 0.7', 'γ = 0.9'],\n",
    "          y_lim=[0,10])\n",
    "\n",
    "show_multi_plot(0, 1, [ex_10_3, ex_10_5, ex_10_7, ex_10_9, ex_10_99],\n",
    "          ylabel='prob density',\n",
    "          xlabel='Reflection Eigenvalue (R1, n_left=10)',\n",
    "          legend=['γ = 0.3', 'γ = 0.5', 'γ = 0.7', 'γ = 0.9', 'γ = 0.99'],\n",
    "          y_lim=[0,10])"
   ]
  },
  {
   "cell_type": "code",
   "execution_count": null,
   "metadata": {
    "colab": {},
    "colab_type": "code",
    "id": "G6yHmV6uVBHz"
   },
   "outputs": [],
   "source": [
    "show_multi_plot(0, 1, [ex_2_1, ex_4_1, ex_6_1, ex_8_1, ex_10_1],\n",
    "          ylabel='prob density',\n",
    "          xlabel='Reflection Eigenvalue (R1, γ=0.1)',\n",
    "          legend=['n = 2', 'n = 4', 'n = 6', 'n = 8', 'n = 10'],\n",
    "          y_lim=[0,10])"
   ]
  },
  {
   "cell_type": "code",
   "execution_count": null,
   "metadata": {
    "colab": {},
    "colab_type": "code",
    "id": "MhCJw6B7U000"
   },
   "outputs": [],
   "source": [
    "show_multi_plot(0, 1, [ex_2_5, ex_4_5, ex_6_5, ex_8_5, ex_10_5],\n",
    "          ylabel='prob density',\n",
    "          xlabel='Reflection Eigenvalue (R1, γ=0.5)',\n",
    "          legend=['n = 2', 'n = 4', 'n = 6', 'n = 8', 'n = 10'],\n",
    "          y_lim=[0,10])"
   ]
  },
  {
   "cell_type": "code",
   "execution_count": null,
   "metadata": {
    "colab": {},
    "colab_type": "code",
    "id": "bUTLzeTPUzJE"
   },
   "outputs": [],
   "source": [
    "show_multi_plot(0, 1, [ex_2_9, ex_4_9, ex_6_9, ex_8_9, ex_10_9],\n",
    "          ylabel='prob density',\n",
    "          xlabel='Reflection Eigenvalue (R1, γ=0.9)',\n",
    "          legend=['n = 2', 'n = 4', 'n = 6', 'n = 8', 'n = 10'],\n",
    "          y_lim=[0,2])"
   ]
  },
  {
   "cell_type": "markdown",
   "metadata": {
    "colab_type": "text",
    "id": "-KtI8eeqzeOU"
   },
   "source": [
    "## Conductance"
   ]
  },
  {
   "cell_type": "code",
   "execution_count": null,
   "metadata": {
    "colab": {},
    "colab_type": "code",
    "id": "DxAr6-fUzi2l"
   },
   "outputs": [],
   "source": [
    "# Just take dist of Refl with 1-R1\n",
    "for n_left in [2,3,4,6,8,10]:\n",
    "  gamma = 0.5\n",
    "  prob = lambda r: arb_norm_prob_dist(1 - r, n_left, gamma)\n",
    "  show_plot(0, 1, prob,\n",
    "            ylabel='Probability Density',\n",
    "            xlabel='Cond Value (R1, nleft = '+ str(n_left) + ')',\n",
    "            legend=['γ='+ str(gamma)],\n",
    "            y_lim=[-1,10])"
   ]
  },
  {
   "cell_type": "code",
   "execution_count": null,
   "metadata": {
    "colab": {},
    "colab_type": "code",
    "id": "aYQgbqkkKdFx"
   },
   "outputs": [],
   "source": [
    "for gamma in gammas:\n",
    "  n_left = 2\n",
    "  prob = lambda r: arb_norm_prob_dist(1 - r, n_left, gamma)\n",
    "  show_plot(0, 1, prob,\n",
    "            ylabel='Probability Density',\n",
    "            xlabel='Conductance Value (R1, nleft = '+ str(n_left) + ')',\n",
    "            legend=['γ = ' + str(gamma)],\n",
    "            y_lim=[-0.1,2])"
   ]
  },
  {
   "cell_type": "markdown",
   "metadata": {
    "colab_type": "text",
    "id": "ws45v-LigyBv"
   },
   "source": [
    "### First Cumulant"
   ]
  },
  {
   "cell_type": "code",
   "execution_count": null,
   "metadata": {
    "colab": {},
    "colab_type": "code",
    "id": "Ck-3kj87An09"
   },
   "outputs": [],
   "source": [
    "def arbL_avg(n_left, gamma):\n",
    "  g = gamma**2\n",
    "  N = n_left + 1\n",
    "  norm = arb_left_norm_const(n_left, gamma)\n",
    "  fst_term = (N * (1-g) - (1-g**N)) * mp.hyp2f1(N+1, 2, N+1, g)/(n_left * N)\n",
    "  snd_term = 2 * g * (g**n_left * N * (1 - g) - (1 - g**N)) * mp.hyp2f1(N+1,3,N+2,g)/(n_left * N * (N + 1))\n",
    "  return (fst_term - snd_term)/norm\n",
    "\n",
    "def arbL_cond_fst_cumulant(n_left, gamma):\n",
    "  return 1 - arbL_avg(n_left, gamma)"
   ]
  },
  {
   "cell_type": "code",
   "execution_count": null,
   "metadata": {
    "colab": {},
    "colab_type": "code",
    "id": "-8EFMYnGdLN8"
   },
   "outputs": [],
   "source": [
    "def arb_cond_fst_2(gamma):\n",
    "  return arbL_cond_fst_cumulant(2, gamma)\n",
    "def arb_cond_fst_4(gamma):\n",
    "  return arbL_cond_fst_cumulant(4, gamma)\n",
    "def arb_cond_fst_6(gamma):\n",
    "  return arbL_cond_fst_cumulant(6, gamma)\n",
    "def arb_cond_fst_8(gamma):\n",
    "  return arbL_cond_fst_cumulant(8, gamma)\n",
    "def arb_cond_fst_10(gamma):\n",
    "  return arbL_cond_fst_cumulant(10, gamma)"
   ]
  },
  {
   "cell_type": "code",
   "execution_count": null,
   "metadata": {
    "colab": {},
    "colab_type": "code",
    "id": "wPIlsCPOCMZu"
   },
   "outputs": [],
   "source": [
    "print(arb_cond_fst_2(0.1))\n",
    "show_plot(0,1, arb_cond_fst_2, y_lim=[-10,10])"
   ]
  },
  {
   "cell_type": "code",
   "execution_count": null,
   "metadata": {
    "colab": {},
    "colab_type": "code",
    "id": "pLYWXanIdlir"
   },
   "outputs": [],
   "source": [
    "show_multi_plot(0, 1, [arb_cond_fst_2, arb_cond_fst_4, arb_cond_fst_6\n",
    "                       , arb_cond_fst_8, arb_cond_fst_10],\n",
    "          ylabel='Cond Average',\n",
    "          xlabel='gamma Value',\n",
    "          legend=['n_left = 2', 'n_left = 4', 'n_left = 6', 'n_left = 8', 'n_left = 10'],\n",
    "          y_lim=[-0.1,1])"
   ]
  },
  {
   "cell_type": "markdown",
   "metadata": {
    "colab_type": "text",
    "id": "NIKdCHq68Y9j"
   },
   "source": [
    "## Hypergeometric Function Cumulants"
   ]
  },
  {
   "cell_type": "code",
   "execution_count": null,
   "metadata": {
    "colab": {},
    "colab_type": "code",
    "id": "dtcKA1Bn8dE7"
   },
   "outputs": [],
   "source": [
    "def mth_arb_average(m, gamma, n_left):\n",
    "  norm = arb_left_norm_const(n_left, gamma)\n",
    "  g = gamma**2\n",
    "  N = n_left + 1\n",
    "  u = N * (1-g) - (1-g**N)\n",
    "  v = g * (N * (1-g) * g**n_left - (1-g**N))\n",
    "\n",
    "  t_1 = u * mp.fac(m) * mp.fac(n_left - 1) * mp.hyp2f1(N+1, m+1, N+m, g)/mp.fac(n_left + m)\n",
    "  t_2 = v * mp.fac(m+1) * mp.fac(n_left - 1) * mp.hyp2f1(N+1, m+2, N+m+1, g)/mp.fac(N + m)\n",
    "  return (t_1 -t_2)/norm"
   ]
  },
  {
   "cell_type": "markdown",
   "metadata": {
    "colab_type": "text",
    "id": "PTe5TtCRDVpf"
   },
   "source": [
    "### Conductance"
   ]
  },
  {
   "cell_type": "code",
   "execution_count": null,
   "metadata": {
    "colab": {},
    "colab_type": "code",
    "id": "QbB6U_Hv-5nQ"
   },
   "outputs": [],
   "source": [
    "def hyp_cond_arb_fst(n_left, gamma):\n",
    "  return 1 - mth_arb_average(1, gamma, n_left)\n",
    "\n",
    "def hyp_cond_arb_snd(n_left, gamma):\n",
    "  return mth_arb_average(2, gamma, n_left) - mth_arb_average(1, gamma, n_left)**2\n",
    "\n",
    "def hyp_cond_arb_thd(n_left, gamma):\n",
    "  lin = mth_arb_average(1, gamma, n_left)\n",
    "  sqr = mth_arb_average(2, gamma, n_left)\n",
    "  cube = mth_arb_average(3, gamma, n_left)\n",
    "  return (3 * sqr * lin) - (2 * lin**3) - cube"
   ]
  },
  {
   "cell_type": "code",
   "execution_count": null,
   "metadata": {
    "colab": {},
    "colab_type": "code",
    "id": "a3BrqPVG_PH6"
   },
   "outputs": [],
   "source": [
    "def arb_hyp_cond_fst_2(gamma):\n",
    "  return hyp_cond_arb_fst(2, gamma)\n",
    "def arb_hyp_cond_fst_4(gamma):\n",
    "  return hyp_cond_arb_fst(4, gamma)\n",
    "def arb_hyp_cond_fst_6(gamma):\n",
    "  return hyp_cond_arb_fst(6, gamma)\n",
    "def arb_hyp_cond_fst_8(gamma):\n",
    "  return hyp_cond_arb_fst(8, gamma)\n",
    "def arb_hyp_cond_fst_10(gamma):\n",
    "  return hyp_cond_arb_fst(10, gamma)\n",
    "\n",
    "show_multi_plot(0, 1, [arb_hyp_cond_fst_2,\n",
    "                       arb_hyp_cond_fst_4,\n",
    "                       arb_hyp_cond_fst_6,\n",
    "                       arb_hyp_cond_fst_8, \n",
    "                       arb_hyp_cond_fst_10],\n",
    "          ylabel='Cond Average',\n",
    "          xlabel='gamma Value',\n",
    "          legend=['n_left = 2', 'n_left = 4', 'n_left = 6', 'n_left = 8', 'n_left = 10'],\n",
    "          y_lim=[-0.1,1])"
   ]
  },
  {
   "cell_type": "code",
   "execution_count": null,
   "metadata": {
    "colab": {},
    "colab_type": "code",
    "id": "I2NMhk0BBhzh"
   },
   "outputs": [],
   "source": [
    "def arb_hyp_cond_snd_2(gamma):\n",
    "  return hyp_cond_arb_snd(2, gamma)\n",
    "def arb_hyp_cond_snd_4(gamma):\n",
    "  return hyp_cond_arb_snd(4, gamma)\n",
    "def arb_hyp_cond_snd_6(gamma):\n",
    "  return hyp_cond_arb_snd(6, gamma)\n",
    "def arb_hyp_cond_snd_8(gamma):\n",
    "  return hyp_cond_arb_snd(8, gamma)\n",
    "def arb_hyp_cond_snd_10(gamma):\n",
    "  return hyp_cond_arb_snd(10, gamma)\n",
    "  \n",
    "show_multi_plot(0, 1, [arb_hyp_cond_snd_2,\n",
    "                       arb_hyp_cond_snd_4,\n",
    "                       arb_hyp_cond_snd_6,\n",
    "                       arb_hyp_cond_snd_8, \n",
    "                       arb_hyp_cond_snd_10],\n",
    "          ylabel='Cond Variance',\n",
    "          xlabel='gamma Value',\n",
    "          legend=['n_left = 2', 'n_left = 4', 'n_left = 6', 'n_left = 8', 'n_left = 10'],\n",
    "          y_lim=[-0,0.1])"
   ]
  },
  {
   "cell_type": "code",
   "execution_count": null,
   "metadata": {
    "colab": {},
    "colab_type": "code",
    "id": "Ka2rzlinB6hc"
   },
   "outputs": [],
   "source": [
    "def arb_hyp_cond_thd_2(gamma):\n",
    "  return hyp_cond_arb_thd(2, gamma)\n",
    "def arb_hyp_cond_thd_4(gamma):\n",
    "  return hyp_cond_arb_thd(4, gamma)\n",
    "def arb_hyp_cond_thd_6(gamma):\n",
    "  return hyp_cond_arb_thd(6, gamma)\n",
    "def arb_hyp_cond_thd_8(gamma):\n",
    "  return hyp_cond_arb_thd(8, gamma)\n",
    "def arb_hyp_cond_thd_10(gamma):\n",
    "  return hyp_cond_arb_thd(10, gamma)\n",
    "  \n",
    "show_multi_plot(0, 1, [arb_hyp_cond_thd_2,\n",
    "                       arb_hyp_cond_thd_4,\n",
    "                       arb_hyp_cond_thd_6,\n",
    "                       arb_hyp_cond_thd_8, \n",
    "                       arb_hyp_cond_thd_10],\n",
    "          ylabel='Cond Thd Cumulant',\n",
    "          xlabel='gamma Value',\n",
    "          legend=['n_left = 2', 'n_left = 4', 'n_left = 6', 'n_left = 8', 'n_left = 10'],\n",
    "          y_lim=[-0.01,0.02])"
   ]
  },
  {
   "cell_type": "markdown",
   "metadata": {
    "colab_type": "text",
    "id": "0ycOCwSyKkDF"
   },
   "source": [
    "### Shot Noise"
   ]
  },
  {
   "cell_type": "code",
   "execution_count": null,
   "metadata": {
    "colab": {},
    "colab_type": "code",
    "id": "Sqw8ingBKpiJ"
   },
   "outputs": [],
   "source": [
    "def hyp_shot_arb_fst(n_left, gamma):\n",
    "  return mth_arb_average(1, gamma, n_left) - mth_arb_average(2, gamma, n_left)\n",
    "\n",
    "def hyp_shot_arb_snd(n_left, gamma):\n",
    "  snd_moment = mth_arb_average(2, gamma, n_left) - 2*mth_arb_average(3, gamma, n_left) + mth_arb_average(4, gamma, n_left)\n",
    "  return snd_moment - hyp_shot_arb_fst(n_left, gamma)**2\n",
    "\n",
    "def hyp_shot_arb_thd(n_left, gamma):\n",
    "  fst_moment = hyp_shot_arb_fst(n_left, gamma)\n",
    "  snd_moment = mth_arb_average(2, gamma, n_left) - 2*mth_arb_average(3, gamma, n_left) + mth_arb_average(4, gamma, n_left)\n",
    "  thd_moment = mth_arb_average(3, gamma, n_left) - 3*mth_arb_average(4, gamma, n_left) + 3*mth_arb_average(5, gamma, n_left) - mth_arb_average(6, gamma, n_left) \n",
    "  return thd_moment - 3 * snd_moment * fst_moment + 2 * fst_moment**3"
   ]
  },
  {
   "cell_type": "code",
   "execution_count": null,
   "metadata": {
    "colab": {},
    "colab_type": "code",
    "id": "fbHkUbwSm9Ws"
   },
   "outputs": [],
   "source": [
    "def arb_hyp_shot_fst_2(gamma):\n",
    "  return hyp_shot_arb_fst(2, gamma)\n",
    "def arb_hyp_shot_fst_4(gamma):\n",
    "  return hyp_shot_arb_fst(4, gamma)\n",
    "def arb_hyp_shot_fst_6(gamma):\n",
    "  return hyp_shot_arb_fst(6, gamma)\n",
    "def arb_hyp_shot_fst_8(gamma):\n",
    "  return hyp_shot_arb_fst(8, gamma)\n",
    "def arb_hyp_shot_fst_10(gamma):\n",
    "  return hyp_shot_arb_fst(10, gamma)\n",
    "  \n",
    "show_multi_plot(0, 1, [arb_hyp_shot_fst_2, arb_hyp_shot_fst_4, arb_hyp_shot_fst_6\n",
    "                       , arb_hyp_shot_fst_8, arb_hyp_shot_fst_10],\n",
    "          ylabel='Shot Noise Average',\n",
    "          xlabel='gamma Value',\n",
    "          legend=['n_left = 2', 'n_left = 4', 'n_left = 6', 'n_left = 8', 'n_left = 10'],\n",
    "          y_lim=[-0,0.25])"
   ]
  },
  {
   "cell_type": "code",
   "execution_count": null,
   "metadata": {
    "colab": {},
    "colab_type": "code",
    "id": "nsc9Lvoeoq2h"
   },
   "outputs": [],
   "source": [
    "def arb_hyp_shot_snd_2(gamma):\n",
    "  return hyp_shot_arb_snd(2, gamma)\n",
    "def arb_hyp_shot_snd_4(gamma):\n",
    "  return hyp_shot_arb_snd(4, gamma)\n",
    "def arb_hyp_shot_snd_6(gamma):\n",
    "  return hyp_shot_arb_snd(6, gamma)\n",
    "def arb_hyp_shot_snd_8(gamma):\n",
    "  return hyp_shot_arb_snd(8, gamma)\n",
    "def arb_hyp_shot_snd_10(gamma):\n",
    "  return hyp_shot_arb_snd(10, gamma)\n",
    "  \n",
    "show_multi_plot(0, 1, [arb_hyp_shot_snd_2, arb_hyp_shot_snd_4, arb_hyp_shot_snd_6\n",
    "                       , arb_hyp_shot_snd_8, arb_hyp_shot_snd_10],\n",
    "          ylabel='Shot Noise Variance',\n",
    "          xlabel='gamma Value',\n",
    "          legend=['n_left = 2', 'n_left = 4', 'n_left = 6', 'n_left = 8', 'n_left = 10'],\n",
    "          y_lim=[-0,0.01])"
   ]
  },
  {
   "cell_type": "code",
   "execution_count": null,
   "metadata": {
    "colab": {},
    "colab_type": "code",
    "id": "mlZ6B-Gjo-dY"
   },
   "outputs": [],
   "source": [
    "def arb_hyp_shot_thd_2(gamma):\n",
    "  return hyp_shot_arb_thd(2, gamma)\n",
    "def arb_hyp_shot_thd_4(gamma):\n",
    "  return hyp_shot_arb_thd(4, gamma)\n",
    "def arb_hyp_shot_thd_6(gamma):\n",
    "  return hyp_shot_arb_thd(6, gamma)\n",
    "def arb_hyp_shot_thd_8(gamma):\n",
    "  return hyp_shot_arb_thd(8, gamma)\n",
    "def arb_hyp_shot_thd_10(gamma):\n",
    "  return hyp_shot_arb_thd(10, gamma)\n",
    "  \n",
    "show_multi_plot(0, 1, [arb_hyp_shot_thd_2, arb_hyp_shot_thd_4, arb_hyp_shot_thd_6\n",
    "                       , arb_hyp_shot_thd_8, arb_hyp_shot_thd_10],\n",
    "          ylabel='Shot Noise 3rd Cumulant',\n",
    "          xlabel='gamma Value',\n",
    "          legend=['n_left = 2', 'n_left = 4', 'n_left = 6', 'n_left = 8', 'n_left = 10'],\n",
    "          y_lim=[-0.0005,0.0005])"
   ]
  },
  {
   "cell_type": "markdown",
   "metadata": {
    "colab_type": "text",
    "id": "0_LAgV9Yaes0"
   },
   "source": [
    "## Reflection Eigenvalue Sampling"
   ]
  },
  {
   "cell_type": "code",
   "execution_count": null,
   "metadata": {
    "colab": {},
    "colab_type": "code",
    "id": "lcnZ2NSsad8u"
   },
   "outputs": [],
   "source": [
    "def find_arb_max(prob_dist, region):\n",
    "  max_h = 0\n",
    "  for i in region:\n",
    "    p = prob_dist(i)\n",
    "    max_h = max(max_h, p)\n",
    "  return max_h\n",
    "\n",
    "def sample_arb_dist(prob_dist, max_height):\n",
    "  sampled_h = 1\n",
    "  dist_h = 0\n",
    "  while not (sampled_h <= dist_h):\n",
    "    sample = rand()\n",
    "    sampled_h = rand() * max_height\n",
    "    dist_h = prob_dist(sample)\n",
    "  return sample\n",
    "\n",
    "def arb_sampling(num_sampling, prob_dist, n_left, gamma):\n",
    "  samples = []\n",
    "  region = np.arange(0, 1, 0.01)\n",
    "  max_height = find_arb_max(prob_dist, region)\n",
    "\n",
    "  for i in range(0, num_sampling):\n",
    "    data = sample_arb_dist(prob_dist, max_height)\n",
    "    samples.append(data)\n",
    "    clear_output(wait=True)\n",
    "    print('Found sample ' + str(i+1) + ' for γ=' + str(gamma) + ' n_left=' + str(n_left))\n",
    "  return samples"
   ]
  },
  {
   "cell_type": "code",
   "execution_count": null,
   "metadata": {
    "colab": {},
    "colab_type": "code",
    "id": "xTcBRkpPc2UI"
   },
   "outputs": [],
   "source": [
    "samples_arb = []\n",
    "for gamma in [0.1, 0.3, 0.5, 0.7, 0.9]:\n",
    "  row = []\n",
    "  for n_left in [2, 4, 6, 8, 10]:\n",
    "    t_samples = arb_sampling(1000, lambda x: arb_left_prob_dist(x, n_left, gamma), n_left, gamma)\n",
    "    row.append(t_samples)\n",
    "  samples_arb.append(row)\n",
    "\n",
    "\n",
    "# Uncomment to write samples to a file\n",
    "# with open('samples_arb.txt', 'w') as f:\n",
    "#   json.dump(samples_arb, f)\n",
    "\n",
    "\n",
    "# Uncomment to read samples from a file\n",
    "# with open('samples_arb.txt', 'r') as f:\n",
    "#   samples_arb = json.load(f)"
   ]
  },
  {
   "cell_type": "markdown",
   "metadata": {
    "colab_type": "text",
    "id": "TqFN2urypqY4"
   },
   "source": [
    "### Conductance"
   ]
  },
  {
   "cell_type": "code",
   "execution_count": null,
   "metadata": {
    "colab": {},
    "colab_type": "code",
    "id": "VVCvUi6UpvS2"
   },
   "outputs": [],
   "source": [
    "cond_arb_avgs = []\n",
    "cond_arb_vars = []\n",
    "cond_arb_thds = []\n",
    "for i in range(0, len(samples_arb)):\n",
    "  gamma_samples = samples_arb[i]\n",
    "  gamma = gammas[i]\n",
    "  row_avgs = []\n",
    "  row_vars = []\n",
    "  row_thds = []\n",
    "  for j in range(0, len(gamma_samples)):\n",
    "    n_left = n_lefts[j]\n",
    "    samples = gamma_samples[j]\n",
    "    cond_data = [1-x for x in samples]\n",
    "\n",
    "    ax = plt.subplot(111)\n",
    "    show_plot(0,1,lambda r: arb_left_prob_dist(1-r, n_left, gamma), ax=ax, y_lim=[0,2])\n",
    "    plot_hist(cond_data, 'Conductance (γ=' + str(gamma) +', n_left=' + str(n_left) + ')',\n",
    "              bins=20, ax=ax, x_lim=[0,1], color='skyblue')\n",
    "\n",
    "    cond_avg, cond_var, cond_thd = get_stats_of_data(cond_data, gamma)\n",
    "    row_avgs.append(cond_avg)\n",
    "    row_vars.append(cond_var)\n",
    "    row_thds.append(cond_thd)\n",
    "  cond_arb_avgs.append(row_avgs)\n",
    "  cond_arb_vars.append(row_vars)\n",
    "  cond_arb_thds.append(row_thds)"
   ]
  },
  {
   "cell_type": "code",
   "execution_count": null,
   "metadata": {
    "colab": {},
    "colab_type": "code",
    "id": "ui4CsLuQrfqi"
   },
   "outputs": [],
   "source": [
    "for i in range(0, len(gammas)):\n",
    "  gamma = gammas[i]\n",
    "  fig = plt.figure()\n",
    "  ax = plt.subplot(111)\n",
    "  show_plot(0,10, lambda n: arbL_cond_fst_cumulant(n, gamma), ax=ax,\n",
    "            y_lim=[0,1],xlabel='n_left (gamma =' + str(gamma) + ')', ylabel='Conductance Average')\n",
    "  ax.scatter(n_lefts, cond_arb_avgs[i], marker='x', c='red', s=100, zorder=3)\n",
    "  ax.legend(['Theoretical'])\n",
    "  ax.axhline(0, color='black')\n",
    "  ax.axvline(0, color='black')\n",
    "  plt.show()"
   ]
  },
  {
   "cell_type": "code",
   "execution_count": null,
   "metadata": {
    "colab": {},
    "colab_type": "code",
    "id": "wsjGTsyOvcUi"
   },
   "outputs": [],
   "source": [
    "for i in range(0, len(n_lefts)):\n",
    "  n_left = n_lefts[i]\n",
    "  fig = plt.figure()\n",
    "  ax = plt.subplot(111)\n",
    "  show_plot(0,1, lambda g: hyp_cond_arb_fst(n_left, g), ax=ax, y_lim=[0,1], \n",
    "            ylabel='Conductance Average')\n",
    "  ax.set_xlabel('gamma (n_left=' + str(n_left) + ')')\n",
    "  ax.scatter(gammas, np.array(cond_arb_avgs).T.tolist()[i], marker='x', c='red', s=100, zorder=3)\n",
    "  ax.legend(['Theoretical'])\n",
    "  ax.axhline(0, color='black')\n",
    "  ax.axvline(0, color='black')\n",
    "  plt.show()"
   ]
  },
  {
   "cell_type": "code",
   "execution_count": null,
   "metadata": {
    "colab": {},
    "colab_type": "code",
    "id": "FrIv8DM9vuKD"
   },
   "outputs": [],
   "source": [
    "for i in range(0, len(n_lefts)):\n",
    "  n_left = n_lefts[i]\n",
    "  fig = plt.figure()\n",
    "  ax = plt.subplot(111)\n",
    "  show_plot(0,1, lambda g: hyp_cond_arb_snd(n_left, g), ax=ax, y_lim=[0,.1], \n",
    "            ylabel='Conductance Variance')\n",
    "  ax.set_xlabel('gamma (n_left=' + str(n_left) + ')')\n",
    "  ax.scatter(gammas, np.array(cond_arb_vars).T.tolist()[i], marker='x', c='red', s=100, zorder=3)\n",
    "  ax.legend(['Theoretical'])\n",
    "  ax.axhline(0, color='black')\n",
    "  ax.axvline(0, color='black')\n",
    "  plt.show()"
   ]
  },
  {
   "cell_type": "code",
   "execution_count": null,
   "metadata": {
    "colab": {},
    "colab_type": "code",
    "id": "r4VLOURBv_wi"
   },
   "outputs": [],
   "source": [
    "for i in range(0, len(n_lefts)):\n",
    "  n_left = n_lefts[i]\n",
    "  fig = plt.figure()\n",
    "  ax = plt.subplot(111)\n",
    "  show_plot(0,1, lambda g: hyp_cond_arb_thd(n_left, g), ax=ax, y_lim=[-.01,0.02],\n",
    "            ylabel='Conductance Third Cumulant')\n",
    "  ax.set_xlabel('gamma (n_left=' + str(n_left) + ')')\n",
    "  ax.scatter(gammas, np.array(cond_arb_thds).T.tolist()[i], marker='x', c='red', s=100, zorder=3)\n",
    "  ax.legend(['Sampled Cond. Thd. (n_left=' + str(n_left) + ')'])\n",
    "  ax.axhline(0, color='black')\n",
    "  ax.axvline(0, color='black')\n",
    "  plt.show()"
   ]
  },
  {
   "cell_type": "markdown",
   "metadata": {
    "colab_type": "text",
    "id": "tNkgFOCXyupG"
   },
   "source": [
    "### Shot Noise"
   ]
  },
  {
   "cell_type": "code",
   "execution_count": null,
   "metadata": {
    "colab": {},
    "colab_type": "code",
    "id": "W1jlAl5NywRw"
   },
   "outputs": [],
   "source": [
    "shot_arb_avgs = []\n",
    "shot_arb_vars = []\n",
    "shot_arb_thds = []\n",
    "for i in range(0, len(samples_arb)):\n",
    "  gamma_samples = samples_arb[i]\n",
    "  gamma = gammas[i]\n",
    "  row_avgs = []\n",
    "  row_vars = []\n",
    "  row_thds = []\n",
    "  for j in range(0, len(gamma_samples)):\n",
    "    n_left = n_lefts[j]\n",
    "    samples = gamma_samples[j]\n",
    "    shot_data = [x*(1-x) for x in samples]\n",
    "\n",
    "    ax = plt.subplot(111)\n",
    "    plot_hist(shot_data, 'Shot Noise (γ=' + str(gamma) +', n_left=' + str(n_left) + ')',\n",
    "              bins=20, ax=ax, x_lim=[0,0.25], color='skyblue')\n",
    "\n",
    "    shot_avg, shot_var, shot_thd = get_stats_of_data(shot_data, gamma)\n",
    "    row_avgs.append(shot_avg)\n",
    "    row_vars.append(shot_var)\n",
    "    row_thds.append(shot_thd)\n",
    "  shot_arb_avgs.append(row_avgs)\n",
    "  shot_arb_vars.append(row_vars)\n",
    "  shot_arb_thds.append(row_thds)"
   ]
  },
  {
   "cell_type": "code",
   "execution_count": null,
   "metadata": {
    "colab": {},
    "colab_type": "code",
    "id": "DlDzG2sPbGOi"
   },
   "outputs": [],
   "source": [
    "for i in range(0, len(gammas)):\n",
    "  gamma = gammas[i]\n",
    "  fig = plt.figure()\n",
    "  ax = plt.subplot(111)\n",
    "  show_plot(0,10, lambda n: hyp_shot_arb_fst(n, gamma), ax=ax,\n",
    "            y_lim=[0,0.2],xlabel='n_left (gamma = ' + str(gamma) + ')', ylabel='Conductance Average')\n",
    "  ax.scatter(n_lefts, shot_arb_avgs[i], marker='x', c='red', s=100, zorder=3)\n",
    "  ax.legend(['Theoretical'])\n",
    "  ax.axhline(0, color='black')\n",
    "  ax.axvline(0, color='black')\n",
    "  plt.show()"
   ]
  },
  {
   "cell_type": "code",
   "execution_count": null,
   "metadata": {
    "colab": {},
    "colab_type": "code",
    "id": "O5qaIkjy0nmA"
   },
   "outputs": [],
   "source": [
    "for i in range(0, len(n_lefts)):\n",
    "  n_left = n_lefts[i]\n",
    "  fig = plt.figure()\n",
    "  ax = plt.subplot(111)\n",
    "  show_plot(0,1, lambda g: hyp_shot_arb_fst(n_left, g), ax=ax, y_lim=[0,0.25],xlabel='gamma', \n",
    "            ylabel='Shot Noise Average')\n",
    "  ax.set_xlabel('gamma (n_left=' + str(n_left) + ')')\n",
    "  ax.scatter(gammas, np.array(shot_arb_avgs).T.tolist()[i], marker='x', c='red', s=100, zorder=3)\n",
    "  ax.legend(['Theoretical'])\n",
    "  ax.axhline(0, color='black')\n",
    "  ax.axvline(0, color='black')\n",
    "  plt.show()"
   ]
  },
  {
   "cell_type": "code",
   "execution_count": null,
   "metadata": {
    "colab": {},
    "colab_type": "code",
    "id": "nho9Iy1C03Cu"
   },
   "outputs": [],
   "source": [
    "for i in range(0, len(n_lefts)):\n",
    "  n_left = n_lefts[i]\n",
    "  fig = plt.figure()\n",
    "  ax = plt.subplot(111)\n",
    "  show_plot(0,1, lambda g: hyp_shot_arb_snd(n_left, g), ax=ax, y_lim=[0,0.01],xlabel='gamma', \n",
    "            ylabel='Shot Noise Variance')\n",
    "  ax.set_xlabel('gamma (n_left=' + str(n_left) + ')')\n",
    "  ax.scatter(gammas, np.array(shot_arb_vars).T.tolist()[i], marker='x', c='red', s=100, zorder=3)\n",
    "  ax.legend(['Theoretical'])\n",
    "  ax.axhline(0, color='black')\n",
    "  ax.axvline(0, color='black')\n",
    "  plt.show()"
   ]
  },
  {
   "cell_type": "code",
   "execution_count": null,
   "metadata": {
    "colab": {},
    "colab_type": "code",
    "id": "Vh0Z0tYo09fC"
   },
   "outputs": [],
   "source": [
    "for i in range(0, len(n_lefts)):\n",
    "  n_left = n_lefts[i]\n",
    "  fig = plt.figure()\n",
    "  ax = plt.subplot(111)\n",
    "  show_plot(0,1, lambda g: hyp_shot_arb_thd(n_left, g), ax=ax, y_lim=[-0.0005,0.0005],xlabel='gamma', \n",
    "            ylabel='Shot Noise Third Cumulant')\n",
    "  ax.set_xlabel('gamma (n_left=' + str(n_left) + ')')\n",
    "  ax.scatter(gammas, np.array(shot_arb_thds).T.tolist()[i], marker='x', c='red', s=100, zorder=3)\n",
    "  ax.legend(['Theoretical'])\n",
    "  ax.axhline(0, color='black')\n",
    "  ax.axvline(0, color='black')\n",
    "  plt.show()"
   ]
  },
  {
   "cell_type": "markdown",
   "metadata": {
    "colab_type": "text",
    "id": "QhSNHwmZMe_u"
   },
   "source": [
    "# Prob Dist (n = 2, β = 2) [IMP: normalisation?]"
   ]
  },
  {
   "cell_type": "code",
   "execution_count": null,
   "metadata": {
    "colab": {},
    "colab_type": "code",
    "id": "H8Rll683MK5z"
   },
   "outputs": [],
   "source": [
    "def prob_dist_2(gamma, r1, r2):\n",
    "  g = gamma**2\n",
    "\n",
    "  u1 = 1/(1 - g * r1)\n",
    "  u2 = 1/(1 - g * r2)\n",
    "  p = ((1-g)**8) * ((r2-r1)**2) * (u1*u2)**4\n",
    "  \n",
    "  A = 1/3 - (u1+u2)/2 + u1*u2\n",
    "  B = -1/2 + 2*(u1+u2)/3 - u1*u2\n",
    "  C = 1/5 - (u1+u2)/4 + u1*u2/3\n",
    "\n",
    "  t = A/5 + (B - A *(u1+u2))/4 + (C- B*(u1+u2) + A*u1*u2)/3 + (u1*u2*B - C*(u1+u2))/2 + C*u1*u2\n",
    "  p = p * t\n",
    "  return p"
   ]
  },
  {
   "cell_type": "code",
   "execution_count": null,
   "metadata": {
    "colab": {},
    "colab_type": "code",
    "id": "5kNBdxIMVdz-"
   },
   "outputs": [],
   "source": [
    "def show_prob_given_y_gamma(gamma, ymax=0.02):\n",
    "  for y in np.arange(0,1.01,step=0.05):\n",
    "    prob = lambda x: prob_dist_2(gamma, x, y)\n",
    "    show_plot(lower, upper, prob,\n",
    "              'prob density', xlabel='r1 given: γ=' + str(gamma) + ', r2=' + str(y), y_lim=[-0.001,ymax])"
   ]
  },
  {
   "cell_type": "markdown",
   "metadata": {
    "colab_type": "text",
    "id": "0vLWRYLKReFv"
   },
   "source": [
    "## Slice Distributions"
   ]
  },
  {
   "cell_type": "code",
   "execution_count": null,
   "metadata": {
    "colab": {
     "base_uri": "https://localhost:8080/",
     "height": 1000
    },
    "colab_type": "code",
    "id": "v9ULIT8tX6ca",
    "outputId": "c318c577-def1-4f99-88b6-1384ac307321"
   },
   "outputs": [],
   "source": [
    "show_prob_given_y_gamma(0,ymax=0.01)"
   ]
  },
  {
   "cell_type": "code",
   "execution_count": null,
   "metadata": {
    "colab": {
     "base_uri": "https://localhost:8080/",
     "height": 1000
    },
    "colab_type": "code",
    "id": "XudeLNjx0CwU",
    "outputId": "e276a4f0-398e-431e-9f91-4a1b5db14031"
   },
   "outputs": [],
   "source": [
    "show_prob_given_y_gamma(0.1)"
   ]
  },
  {
   "cell_type": "code",
   "execution_count": null,
   "metadata": {
    "colab": {
     "base_uri": "https://localhost:8080/",
     "height": 1000
    },
    "colab_type": "code",
    "id": "bqeHSamrX8A_",
    "outputId": "f8818f65-5a3e-402a-f6b6-e46b52d597f8"
   },
   "outputs": [],
   "source": [
    "show_prob_given_y_gamma(0.3)"
   ]
  },
  {
   "cell_type": "code",
   "execution_count": null,
   "metadata": {
    "colab": {
     "base_uri": "https://localhost:8080/",
     "height": 1000
    },
    "colab_type": "code",
    "id": "tGRnPLOoX-Xf",
    "outputId": "2922ef84-8376-4e1d-b4ae-968d1dbac7cb"
   },
   "outputs": [],
   "source": [
    "show_prob_given_y_gamma(0.5, ymax=0.005)"
   ]
  },
  {
   "cell_type": "code",
   "execution_count": null,
   "metadata": {
    "colab": {
     "base_uri": "https://localhost:8080/",
     "height": 1000
    },
    "colab_type": "code",
    "id": "LQ7-eYSdYAhm",
    "outputId": "25ecec29-c8e0-45cf-b037-2e81861241c2"
   },
   "outputs": [],
   "source": [
    "show_prob_given_y_gamma(0.7)"
   ]
  },
  {
   "cell_type": "code",
   "execution_count": null,
   "metadata": {
    "colab": {
     "base_uri": "https://localhost:8080/",
     "height": 1000
    },
    "colab_type": "code",
    "id": "-jzSbdMm5z6g",
    "outputId": "3e8f1d2d-ffdf-4c80-896c-7835175ec3c3"
   },
   "outputs": [],
   "source": [
    "show_prob_given_y_gamma(0.9)"
   ]
  },
  {
   "cell_type": "markdown",
   "metadata": {
    "colab_type": "text",
    "id": "NOLMP9nsRVur"
   },
   "source": [
    "## Surface Plots"
   ]
  },
  {
   "cell_type": "code",
   "execution_count": null,
   "metadata": {
    "colab": {
     "base_uri": "https://localhost:8080/",
     "height": 1000
    },
    "colab_type": "code",
    "id": "H3LpB5rxQoSu",
    "outputId": "9a686a81-11d0-4184-e0e9-6ae16b4af498"
   },
   "outputs": [],
   "source": [
    "prob = lambda x, y: 20*prob_dist_2(0, x, y)\n",
    "show_surface_plot(prob, title='γ = 0')\n",
    "for gamma in gammas:\n",
    "  prob = lambda x, y: 20*prob_dist_2(gamma, x, y)\n",
    "  show_surface_plot(prob, title='γ =' + str(gamma))"
   ]
  },
  {
   "cell_type": "markdown",
   "metadata": {
    "colab_type": "text",
    "id": "DntJvjaTHGCg"
   },
   "source": [
    "## Rejection Reflection Eigenvalue Sampling"
   ]
  },
  {
   "cell_type": "code",
   "execution_count": null,
   "metadata": {
    "colab": {},
    "colab_type": "code",
    "id": "yZj60zy4HHz1"
   },
   "outputs": [],
   "source": [
    "from numpy.random import rand\n",
    "from IPython.display import clear_output\n",
    "\n",
    "def find_max2d(gamma, r1_region, r2_region):\n",
    "  max_height = 0\n",
    "  for i in r1_region:\n",
    "    for j in r2_region:\n",
    "      h = prob_dist_2(gamma, i, j)\n",
    "      max_height = max(max_height, h)\n",
    "  return max_height\n",
    "\n",
    "def sample_prob_dist_2(gamma, max_height):\n",
    "  actual_density = 0\n",
    "  sample_density = 1\n",
    "  \n",
    "  while (actual_density < sample_density):\n",
    "    r1_sample = rand()\n",
    "    r2_sample = rand()\n",
    "    sample_density = mp.rand() * max_height\n",
    "    actual_density = prob_dist_2(gamma, r1_sample, r2_sample)\n",
    "\n",
    "  return r1_sample, r2_sample\n",
    "\n",
    "def gen_2d_samples(gamma, num_of_samples):\n",
    "  samples = []\n",
    "  r1_region = np.arange(0,1,0.01)\n",
    "  r2_region = r1_region\n",
    "  max_height2d = find_max2d(gamma, r1_region, r2_region)\n",
    "\n",
    "  for i in range(0, num_of_samples):\n",
    "    samples.append(sample_prob_dist_2(gamma, max_height2d))\n",
    "    clear_output(wait=True)\n",
    "    print('Found sample ' + str(i+1) + ' for γ=' + str(gamma))\n",
    "  return samples"
   ]
  },
  {
   "cell_type": "markdown",
   "metadata": {
    "colab_type": "text",
    "id": "mIoRTWAO11Bf"
   },
   "source": [
    "# Large Range Sampling"
   ]
  },
  {
   "cell_type": "code",
   "execution_count": null,
   "metadata": {
    "colab": {},
    "colab_type": "code",
    "id": "-j1vApfo134G"
   },
   "outputs": [],
   "source": [
    "gamma_100 = np.linspace(0,1,100,endpoint=False)\n",
    "print(gamma_100)"
   ]
  },
  {
   "cell_type": "code",
   "execution_count": null,
   "metadata": {
    "colab": {},
    "colab_type": "code",
    "id": "15dclL1q29pW"
   },
   "outputs": [],
   "source": [
    "samples2d = []\n",
    "for g in gamma_100:\n",
    "  gamma_samples = gen_2d_samples(g, 1000)\n",
    "  samples2d.append(gamma_samples)\n",
    "\n",
    "# Uncomment below to save samples\n",
    "# with open('100g_samples.txt', 'w') as f:\n",
    "#   json.dump(samples2d, f)\n",
    "\n",
    "# Uncomment to read samples from a file\n",
    "# with open('100g_samples.txt', 'r') as f:\n",
    "#   samples2d = json.load(f)"
   ]
  },
  {
   "cell_type": "markdown",
   "metadata": {
    "colab_type": "text",
    "id": "A-VGoEPL3J-o"
   },
   "source": [
    "## Conductance"
   ]
  },
  {
   "cell_type": "code",
   "execution_count": null,
   "metadata": {
    "colab": {},
    "colab_type": "code",
    "id": "ecWdwpde9_Ig"
   },
   "outputs": [],
   "source": [
    "cond_avgs_2d = []\n",
    "cond_vars_2d = []\n",
    "cond_thds_2d = []\n",
    "for i in range(0, len(samples2d)):\n",
    "  gamma = gamma_100[i]\n",
    "  ax = plt.subplot(111)\n",
    "  cond_data = [cond_of(x,y) for (x, y) in samples2d[i]]\n",
    "  cond_avg, cond_var, cond_thd = get_stats_of_data(cond_data, gamma)\n",
    "  plot_hist(cond_data,'Conductance', bins=20, ax=ax)\n",
    "  ax.legend(['γ=' + str(gamma) +''])\n",
    "\n",
    "  cond_avgs_2d.append(cond_avg)\n",
    "  cond_vars_2d.append(cond_var)\n",
    "  cond_thds_2d.append(cond_thd)  "
   ]
  },
  {
   "cell_type": "code",
   "execution_count": null,
   "metadata": {
    "colab": {},
    "colab_type": "code",
    "id": "GtqCBIdC29jn"
   },
   "outputs": [],
   "source": [
    "fig = plt.figure()\n",
    "ax = plt.subplot(111)\n",
    "ax.scatter(gamma_100, cond_avgs_2d, marker='x', c='red', s=100)\n",
    "cond_est = [cond_fst_moment(x) for x in gamma_100]\n",
    "ax.plot(gamma_100, cond_est, '--',c='blue', linewidth=3)\n",
    "ax.set_xlabel('gamma (γ)')\n",
    "ax.set_ylabel('Conductance Average')\n",
    "ax.legend(['n=1 Cond. Average'])\n",
    "ax.grid(True)\n",
    "ax.axhline(0, color='black')\n",
    "ax.axvline(0, color='black')\n",
    "plt.show()"
   ]
  },
  {
   "cell_type": "code",
   "execution_count": null,
   "metadata": {
    "colab": {},
    "colab_type": "code",
    "id": "ZTNQymXH3AW-"
   },
   "outputs": [],
   "source": [
    "fig = plt.figure()\n",
    "ax = plt.subplot(111)\n",
    "ax.scatter(gamma_100, cond_vars_2d, marker='x', c='red', s=100)\n",
    "show_plot(0,1,cond_snd_cumulant,ax=ax, y_lim=[0,0.1])\n",
    "\n",
    "ax.set_xlabel('gamma (γ)')\n",
    "ax.set_ylabel('Conductance Variance')\n",
    "ax.legend(['n=1 Conductance Variance'])\n",
    "ax.grid(True)\n",
    "ax.axhline(0, color='black')\n",
    "ax.axvline(0, color='black')\n",
    "plt.show()"
   ]
  },
  {
   "cell_type": "code",
   "execution_count": null,
   "metadata": {
    "colab": {},
    "colab_type": "code",
    "id": "in023wS13Dpp"
   },
   "outputs": [],
   "source": [
    "fig = plt.figure()\n",
    "ax = plt.subplot(111)\n",
    "ax.scatter(gamma_100, cond_thds_2d, marker='x', c='red', s=100)\n",
    "show_plot(0,1,cond_thd_cumulant,ax=ax, y_lim=[-0.01,0.015])\n",
    "ax.set_xlabel('gamma (γ)')\n",
    "ax.set_ylabel('Conductance Third Cumulant')\n",
    "ax.legend(['n=1 Conductance Third Cumulant'])\n",
    "ax.grid(True)\n",
    "ax.axhline(0, color='black')\n",
    "ax.axvline(0, color='black')\n",
    "plt.show()"
   ]
  },
  {
   "cell_type": "markdown",
   "metadata": {
    "colab_type": "text",
    "id": "vUI2CqMo3Mmi"
   },
   "source": [
    "## Shot Noise"
   ]
  },
  {
   "cell_type": "code",
   "execution_count": null,
   "metadata": {
    "colab": {},
    "colab_type": "code",
    "id": "Xm38XhmV3IOz"
   },
   "outputs": [],
   "source": [
    "shot_avgs_2d = []\n",
    "shot_vars_2d = []\n",
    "shot_thds_2d = []\n",
    "for i in range(0, len(samples2d)):\n",
    "  gamma = gamma_100[i]\n",
    "  shot_data = [shot_noise_of(x,y) for (x, y) in samples2d[i]]\n",
    "  plot_hist(shot_data,'Shot Noise (γ=' + str(gamma) +')', bins=20, x_lim=[0,0.5])\n",
    "  shot_avg, shot_var, shot_thd = get_stats_of_data(shot_data, gamma)\n",
    "\n",
    "  shot_avgs_2d.append(shot_avg)\n",
    "  shot_vars_2d.append(shot_var)\n",
    "  shot_thds_2d.append(shot_thd)"
   ]
  },
  {
   "cell_type": "code",
   "execution_count": null,
   "metadata": {
    "colab": {},
    "colab_type": "code",
    "id": "bAtZGrRg3lj9"
   },
   "outputs": [],
   "source": [
    "fig = plt.figure()\n",
    "ax = plt.subplot(111)\n",
    "ax.scatter(gamma_100, shot_avgs_2d, marker='x', c='red', s=100)\n",
    "shot_est = [shot_fst_cumulant(x) for x in gamma_100]\n",
    "ax.plot(gamma_100, shot_est, '--',c='blue', linewidth=3)\n",
    "\n",
    "ax.legend(['n=1 Shot Average'])\n",
    "ax.axhline(0, color='black')\n",
    "ax.axvline(0, color='black')\n",
    "ax.set_xlabel('gamma (γ)')\n",
    "ax.set_ylabel('Shot Noise Average')\n",
    "ax.grid(True)\n",
    "plt.show()"
   ]
  },
  {
   "cell_type": "code",
   "execution_count": null,
   "metadata": {
    "colab": {},
    "colab_type": "code",
    "id": "4VBc75iP32OH"
   },
   "outputs": [],
   "source": [
    "fig = plt.figure()\n",
    "ax = plt.subplot(111)\n",
    "ax.scatter(gamma_100, shot_vars_2d, marker='x', c='red', s=100)\n",
    "show_plot(0,1,shot_snd_cumulant,ax=ax, y_lim=[0,0.012])\n",
    "ax.legend(['n=1 Shot Noise Variance'])\n",
    "ax.axhline(0, color='black')\n",
    "ax.axvline(0, color='black')\n",
    "ax.set_xlabel('gamma (γ)')\n",
    "ax.set_ylabel('Shot Noise Variance')\n",
    "ax.grid(True)\n",
    "plt.show()"
   ]
  },
  {
   "cell_type": "code",
   "execution_count": null,
   "metadata": {
    "colab": {},
    "colab_type": "code",
    "id": "u829euc535Jt"
   },
   "outputs": [],
   "source": [
    "fig = plt.figure()\n",
    "ax = plt.subplot(111)\n",
    "ax.scatter(gamma_100, shot_thds_2d, marker='x', c='red', s=100)\n",
    "show_plot(0,1, hyp_shot_thd, ax=ax, y_lim=[-0.0004,0.0004])\n",
    "ax.legend(['n=1 Shot Third Cumulant'])\n",
    "ax.axhline(0, color='black')\n",
    "ax.axvline(0, color='black')\n",
    "ax.set_xlabel('gamma (γ)')\n",
    "ax.set_ylabel('Shot Noise Third Cumulant')\n",
    "ax.grid(True)\n",
    "plt.show()"
   ]
  },
  {
   "cell_type": "markdown",
   "metadata": {
    "colab_type": "text",
    "id": "nnySrFfwAK1J"
   },
   "source": [
    "## Kernel Density Estimation"
   ]
  },
  {
   "cell_type": "code",
   "execution_count": null,
   "metadata": {
    "colab": {},
    "colab_type": "code",
    "id": "ztLBpQsWAJ4E"
   },
   "outputs": [],
   "source": [
    "for i in range(0, len(samples2d)):\n",
    "  gamma = gammas_100[i]\n",
    "  ax = plt.subplot(111)\n",
    "  cond_data = [cond_of(x,y) for (x, y) in samples[i]]\n",
    "  est = stats.gaussian_kde(cond_data)\n",
    "  space = np.linspace(0,2,200)\n",
    "  est.set_bandwidth(0.5)\n",
    "  plt.plot(space, est.evaluate(space), lw=3)\n",
    "  plot_hist(cond_data,'Conductance', bins=20, ax=ax, color='skyblue')\n",
    "  ax.legend(['Kernel Density Gaussian Fit','γ=' + str(gamma) +' samples'])"
   ]
  },
  {
   "cell_type": "code",
   "execution_count": null,
   "metadata": {
    "colab": {},
    "colab_type": "code",
    "id": "HclA-LSABwY0"
   },
   "outputs": [],
   "source": [
    "for i in range(0, len(samples2d)):\n",
    "  gamma = gammas_100[i]\n",
    "  ax = plt.subplot(111)\n",
    "  shot_data = [shot_noise_of(x,y) for (x, y) in samples[i]]\n",
    "  est = stats.gaussian_kde(shot_data)\n",
    "  est.set_bandwidth(0.2)\n",
    "  space = np.linspace(0,0.5,200)\n",
    "  plt.plot(space, est.evaluate(space), lw=3)\n",
    "  plot_hist(shot_data,'Shot Noise', bins=20, ax=ax, x_lim=[0,0.5], color='skyblue')\n",
    "  ax.legend(['Kernel Density Gaussian Fit','γ=' + str(gamma) +' samples'])"
   ]
  }
 ],
 "metadata": {
  "colab": {
   "authorship_tag": "ABX9TyM/aGS9mVPrsMHifVW+HMdD",
   "collapsed_sections": [],
   "include_colab_link": true,
   "name": "diss.ipynb",
   "provenance": [],
   "toc_visible": true
  },
  "kernelspec": {
   "display_name": "Python 3",
   "language": "python",
   "name": "python3"
  },
  "language_info": {
   "codemirror_mode": {
    "name": "ipython",
    "version": 3
   },
   "file_extension": ".py",
   "mimetype": "text/x-python",
   "name": "python",
   "nbconvert_exporter": "python",
   "pygments_lexer": "ipython3",
   "version": "3.7.0"
  }
 },
 "nbformat": 4,
 "nbformat_minor": 1
}
